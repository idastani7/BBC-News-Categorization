{
 "cells": [
  {
   "cell_type": "markdown",
   "id": "30d7806c",
   "metadata": {},
   "source": [
    "# Add Libraries"
   ]
  },
  {
   "cell_type": "code",
   "execution_count": 1,
   "id": "71767cdf",
   "metadata": {},
   "outputs": [],
   "source": [
    "import numpy as np\n",
    "import pandas as pd\n",
    "import nltk\n",
    "import matplotlib.pyplot as plt\n",
    "from tensorflow import keras\n",
    "import tensorflow as tf\n",
    "from keras import layers\n",
    "from keras.preprocessing.text import Tokenizer\n",
    "from tensorflow.keras.preprocessing.sequence import pad_sequences\n",
    "from sklearn.model_selection import train_test_split\n",
    "from tensorflow.keras.utils import to_categorical\n",
    "from sklearn.preprocessing import LabelEncoder\n",
    "from string import punctuation\n",
    "from nltk.tokenize import word_tokenize"
   ]
  },
  {
   "cell_type": "markdown",
   "id": "5c1ba9b4",
   "metadata": {},
   "source": [
    "# Read Data and Quick EDA"
   ]
  },
  {
   "cell_type": "code",
   "execution_count": 3,
   "id": "8f0c6392",
   "metadata": {},
   "outputs": [
    {
     "data": {
      "text/html": [
       "<div>\n",
       "<style scoped>\n",
       "    .dataframe tbody tr th:only-of-type {\n",
       "        vertical-align: middle;\n",
       "    }\n",
       "\n",
       "    .dataframe tbody tr th {\n",
       "        vertical-align: top;\n",
       "    }\n",
       "\n",
       "    .dataframe thead th {\n",
       "        text-align: right;\n",
       "    }\n",
       "</style>\n",
       "<table border=\"1\" class=\"dataframe\">\n",
       "  <thead>\n",
       "    <tr style=\"text-align: right;\">\n",
       "      <th></th>\n",
       "      <th>category</th>\n",
       "      <th>filename</th>\n",
       "      <th>title</th>\n",
       "      <th>content</th>\n",
       "    </tr>\n",
       "  </thead>\n",
       "  <tbody>\n",
       "    <tr>\n",
       "      <th>0</th>\n",
       "      <td>tech</td>\n",
       "      <td>271.txt</td>\n",
       "      <td>US hacker breaks into T-Mobile</td>\n",
       "      <td>A man is facing charges of hacking into compu...</td>\n",
       "    </tr>\n",
       "    <tr>\n",
       "      <th>1</th>\n",
       "      <td>entertainment</td>\n",
       "      <td>335.txt</td>\n",
       "      <td>De Niro film leads US box office</td>\n",
       "      <td>Film star Robert De Niro has returned to the ...</td>\n",
       "    </tr>\n",
       "    <tr>\n",
       "      <th>2</th>\n",
       "      <td>politics</td>\n",
       "      <td>060.txt</td>\n",
       "      <td>Cardinal criticises Iraq war cost</td>\n",
       "      <td>Billions of pounds spent on conflict in Iraq ...</td>\n",
       "    </tr>\n",
       "    <tr>\n",
       "      <th>3</th>\n",
       "      <td>entertainment</td>\n",
       "      <td>369.txt</td>\n",
       "      <td>Briton wins short film Oscar</td>\n",
       "      <td>Three of the five nominees in the live-action...</td>\n",
       "    </tr>\n",
       "    <tr>\n",
       "      <th>4</th>\n",
       "      <td>tech</td>\n",
       "      <td>006.txt</td>\n",
       "      <td>Wi-fi web reaches farmers in Peru</td>\n",
       "      <td>A network of community computer centres, link...</td>\n",
       "    </tr>\n",
       "    <tr>\n",
       "      <th>...</th>\n",
       "      <td>...</td>\n",
       "      <td>...</td>\n",
       "      <td>...</td>\n",
       "      <td>...</td>\n",
       "    </tr>\n",
       "    <tr>\n",
       "      <th>2220</th>\n",
       "      <td>tech</td>\n",
       "      <td>164.txt</td>\n",
       "      <td>Who do you think you are?</td>\n",
       "      <td>The real danger is not what happens to your d...</td>\n",
       "    </tr>\n",
       "    <tr>\n",
       "      <th>2221</th>\n",
       "      <td>business</td>\n",
       "      <td>053.txt</td>\n",
       "      <td>Weak dollar hits Reuters</td>\n",
       "      <td>Revenues at media group Reuters slipped 11% d...</td>\n",
       "    </tr>\n",
       "    <tr>\n",
       "      <th>2222</th>\n",
       "      <td>entertainment</td>\n",
       "      <td>277.txt</td>\n",
       "      <td>The Sound of Music is coming home</td>\n",
       "      <td>The original stage production of The Sound of...</td>\n",
       "    </tr>\n",
       "    <tr>\n",
       "      <th>2223</th>\n",
       "      <td>business</td>\n",
       "      <td>243.txt</td>\n",
       "      <td>Making your office work for you</td>\n",
       "      <td>Our mission to brighten up your working lives...</td>\n",
       "    </tr>\n",
       "    <tr>\n",
       "      <th>2224</th>\n",
       "      <td>business</td>\n",
       "      <td>332.txt</td>\n",
       "      <td>Putin backs state grab for Yukos</td>\n",
       "      <td>Russia's president has defended the purchase ...</td>\n",
       "    </tr>\n",
       "  </tbody>\n",
       "</table>\n",
       "<p>2225 rows × 4 columns</p>\n",
       "</div>"
      ],
      "text/plain": [
       "           category filename                              title  \\\n",
       "0              tech  271.txt     US hacker breaks into T-Mobile   \n",
       "1     entertainment  335.txt   De Niro film leads US box office   \n",
       "2          politics  060.txt  Cardinal criticises Iraq war cost   \n",
       "3     entertainment  369.txt       Briton wins short film Oscar   \n",
       "4              tech  006.txt  Wi-fi web reaches farmers in Peru   \n",
       "...             ...      ...                                ...   \n",
       "2220           tech  164.txt          Who do you think you are?   \n",
       "2221       business  053.txt           Weak dollar hits Reuters   \n",
       "2222  entertainment  277.txt  The Sound of Music is coming home   \n",
       "2223       business  243.txt    Making your office work for you   \n",
       "2224       business  332.txt   Putin backs state grab for Yukos   \n",
       "\n",
       "                                                content  \n",
       "0      A man is facing charges of hacking into compu...  \n",
       "1      Film star Robert De Niro has returned to the ...  \n",
       "2      Billions of pounds spent on conflict in Iraq ...  \n",
       "3      Three of the five nominees in the live-action...  \n",
       "4      A network of community computer centres, link...  \n",
       "...                                                 ...  \n",
       "2220   The real danger is not what happens to your d...  \n",
       "2221   Revenues at media group Reuters slipped 11% d...  \n",
       "2222   The original stage production of The Sound of...  \n",
       "2223   Our mission to brighten up your working lives...  \n",
       "2224   Russia's president has defended the purchase ...  \n",
       "\n",
       "[2225 rows x 4 columns]"
      ]
     },
     "execution_count": 3,
     "metadata": {},
     "output_type": "execute_result"
    }
   ],
   "source": [
    "df = pd.read_csv('bbc-news-data.csv', sep='\\t')\n",
    "df = df.sample(frac=1).reset_index(drop=True)\n",
    "df"
   ]
  },
  {
   "cell_type": "code",
   "execution_count": 4,
   "id": "ee9303c9",
   "metadata": {},
   "outputs": [
    {
     "name": "stdout",
     "output_type": "stream",
     "text": [
      "<class 'pandas.core.frame.DataFrame'>\n",
      "RangeIndex: 2225 entries, 0 to 2224\n",
      "Data columns (total 4 columns):\n",
      " #   Column    Non-Null Count  Dtype \n",
      "---  ------    --------------  ----- \n",
      " 0   category  2225 non-null   object\n",
      " 1   filename  2225 non-null   object\n",
      " 2   title     2225 non-null   object\n",
      " 3   content   2225 non-null   object\n",
      "dtypes: object(4)\n",
      "memory usage: 69.7+ KB\n"
     ]
    }
   ],
   "source": [
    "df.info()"
   ]
  },
  {
   "cell_type": "code",
   "execution_count": 5,
   "id": "87a7727d",
   "metadata": {},
   "outputs": [
    {
     "data": {
      "text/plain": [
       "sport            511\n",
       "business         510\n",
       "politics         417\n",
       "tech             401\n",
       "entertainment    386\n",
       "Name: category, dtype: int64"
      ]
     },
     "execution_count": 5,
     "metadata": {},
     "output_type": "execute_result"
    }
   ],
   "source": [
    "df.category.value_counts()"
   ]
  },
  {
   "cell_type": "code",
   "execution_count": 6,
   "id": "df78685e",
   "metadata": {},
   "outputs": [
    {
     "data": {
      "text/plain": [
       "category    0\n",
       "filename    0\n",
       "title       0\n",
       "content     0\n",
       "dtype: int64"
      ]
     },
     "execution_count": 6,
     "metadata": {},
     "output_type": "execute_result"
    }
   ],
   "source": [
    "df.isnull().sum()"
   ]
  },
  {
   "cell_type": "markdown",
   "id": "ecabd394",
   "metadata": {},
   "source": [
    "# Preprocessing Data \n",
    "In this section, I deleted punctuations, stopwords and enhanced data for final processing."
   ]
  },
  {
   "cell_type": "code",
   "execution_count": 7,
   "id": "0c711a3f",
   "metadata": {},
   "outputs": [],
   "source": [
    "translator= str.maketrans('','', punctuation)\n",
    "stopwords = [\"0o\", \"0s\", \"3a\", \"3b\", \"3d\", \"6b\", \"6o\", \"a\", \"a1\", \"a2\", \"a3\", \"a4\", \"ab\", \"able\", \"about\", \"above\", \"abst\", \"ac\", \"accordance\", \"according\", \"accordingly\", \"across\", \"act\", \"actually\", \"ad\", \"added\", \"adj\", \"ae\", \"af\", \"affected\", \"affecting\", \"affects\", \"after\", \"afterwards\", \"ag\", \"again\", \"against\", \"ah\", \"ain\", \"ain't\", \"aj\", \"al\", \"all\", \"allow\", \"allows\", \"almost\", \"alone\", \"along\", \"already\", \"also\", \"although\", \"always\", \"am\", \"among\", \"amongst\", \"amoungst\", \"amount\", \"an\", \"and\", \"announce\", \"another\", \"any\", \"anybody\", \"anyhow\", \"anymore\", \"anyone\", \"anything\", \"anyway\", \"anyways\", \"anywhere\", \"ao\", \"ap\", \"apart\", \"apparently\", \"appear\", \"appreciate\", \"appropriate\", \"approximately\", \"ar\", \"are\", \"aren\", \"arent\", \"aren't\", \"arise\", \"around\", \"as\", \"a's\", \"aside\", \"ask\", \"asking\", \"associated\", \"at\", \"au\", \"auth\", \"av\", \"available\", \"aw\", \"away\", \"awfully\", \"ax\", \"ay\", \"az\", \"b\", \"b1\", \"b2\", \"b3\", \"ba\", \"back\", \"bc\", \"bd\", \"be\", \"became\", \"because\", \"become\", \"becomes\", \"becoming\", \"been\", \"before\", \"beforehand\", \"begin\", \"beginning\", \"beginnings\", \"begins\", \"behind\", \"being\", \"believe\", \"below\", \"beside\", \"besides\", \"best\", \"better\", \"between\", \"beyond\", \"bi\", \"bill\", \"biol\", \"bj\", \"bk\", \"bl\", \"bn\", \"both\", \"bottom\", \"bp\", \"br\", \"brief\", \"briefly\", \"bs\", \"bt\", \"bu\", \"but\", \"bx\", \"by\", \"c\", \"c1\", \"c2\", \"c3\", \"ca\", \"call\", \"came\", \"can\", \"cannot\", \"cant\", \"can't\", \"cause\", \"causes\", \"cc\", \"cd\", \"ce\", \"certain\", \"certainly\", \"cf\", \"cg\", \"ch\", \"changes\", \"ci\", \"cit\", \"cj\", \"cl\", \"clearly\", \"cm\", \"c'mon\", \"cn\", \"co\", \"com\", \"come\", \"comes\", \"con\", \"concerning\", \"consequently\", \"consider\", \"considering\", \"contain\", \"containing\", \"contains\", \"corresponding\", \"could\", \"couldn\", \"couldnt\", \"couldn't\", \"course\", \"cp\", \"cq\", \"cr\", \"cry\", \"cs\", \"c's\", \"ct\", \"cu\", \"currently\", \"cv\", \"cx\", \"cy\", \"cz\", \"d\", \"d2\", \"da\", \"date\", \"dc\", \"dd\", \"de\", \"definitely\", \"describe\", \"described\", \"despite\", \"detail\", \"df\", \"di\", \"did\", \"didn\", \"didn't\", \"different\", \"dj\", \"dk\", \"dl\", \"do\", \"does\", \"doesn\", \"doesn't\", \"doing\", \"don\", \"done\", \"don't\", \"down\", \"downwards\", \"dp\", \"dr\", \"ds\", \"dt\", \"du\", \"due\", \"during\", \"dx\", \"dy\", \"e\", \"e2\", \"e3\", \"ea\", \"each\", \"ec\", \"ed\", \"edu\", \"ee\", \"ef\", \"effect\", \"eg\", \"ei\", \"eight\", \"eighty\", \"either\", \"ej\", \"el\", \"eleven\", \"else\", \"elsewhere\", \"em\", \"empty\", \"en\", \"end\", \"ending\", \"enough\", \"entirely\", \"eo\", \"ep\", \"eq\", \"er\", \"es\", \"especially\", \"est\", \"et\", \"et-al\", \"etc\", \"eu\", \"ev\", \"even\", \"ever\", \"every\", \"everybody\", \"everyone\", \"everything\", \"everywhere\", \"ex\", \"exactly\", \"example\", \"except\", \"ey\", \"f\", \"f2\", \"fa\", \"far\", \"fc\", \"few\", \"ff\", \"fi\", \"fifteen\", \"fifth\", \"fify\", \"fill\", \"find\", \"fire\", \"first\", \"five\", \"fix\", \"fj\", \"fl\", \"fn\", \"fo\", \"followed\", \"following\", \"follows\", \"for\", \"former\", \"formerly\", \"forth\", \"forty\", \"found\", \"four\", \"fr\", \"from\", \"front\", \"fs\", \"ft\", \"fu\", \"full\", \"further\", \"furthermore\", \"fy\", \"g\", \"ga\", \"gave\", \"ge\", \"get\", \"gets\", \"getting\", \"gi\", \"give\", \"given\", \"gives\", \"giving\", \"gj\", \"gl\", \"go\", \"goes\", \"going\", \"gone\", \"got\", \"gotten\", \"gr\", \"greetings\", \"gs\", \"gy\", \"h\", \"h2\", \"h3\", \"had\", \"hadn\", \"hadn't\", \"happens\", \"hardly\", \"has\", \"hasn\", \"hasnt\", \"hasn't\", \"have\", \"haven\", \"haven't\", \"having\", \"he\", \"hed\", \"he'd\", \"he'll\", \"hello\", \"help\", \"hence\", \"her\", \"here\", \"hereafter\", \"hereby\", \"herein\", \"heres\", \"here's\", \"hereupon\", \"hers\", \"herself\", \"hes\", \"he's\", \"hh\", \"hi\", \"hid\", \"him\", \"himself\", \"his\", \"hither\", \"hj\", \"ho\", \"home\", \"hopefully\", \"how\", \"howbeit\", \"however\", \"how's\", \"hr\", \"hs\", \"http\", \"hu\", \"hundred\", \"hy\", \"i\", \"i2\", \"i3\", \"i4\", \"i6\", \"i7\", \"i8\", \"ia\", \"ib\", \"ibid\", \"ic\", \"id\", \"i'd\", \"ie\", \"if\", \"ig\", \"ignored\", \"ih\", \"ii\", \"ij\", \"il\", \"i'll\", \"im\", \"i'm\", \"immediate\", \"immediately\", \"importance\", \"important\", \"in\", \"inasmuch\", \"inc\", \"indeed\", \"index\", \"indicate\", \"indicated\", \"indicates\", \"information\", \"inner\", \"insofar\", \"instead\", \"interest\", \"into\", \"invention\", \"inward\", \"io\", \"ip\", \"iq\", \"ir\", \"is\", \"isn\", \"isn't\", \"it\", \"itd\", \"it'd\", \"it'll\", \"its\", \"it's\", \"itself\", \"iv\", \"i've\", \"ix\", \"iy\", \"iz\", \"j\", \"jj\", \"jr\", \"js\", \"jt\", \"ju\", \"just\", \"k\", \"ke\", \"keep\", \"keeps\", \"kept\", \"kg\", \"kj\", \"km\", \"know\", \"known\", \"knows\", \"ko\", \"l\", \"l2\", \"la\", \"largely\", \"last\", \"lately\", \"later\", \"latter\", \"latterly\", \"lb\", \"lc\", \"le\", \"least\", \"les\", \"less\", \"lest\", \"let\", \"lets\", \"let's\", \"lf\", \"like\", \"liked\", \"likely\", \"line\", \"little\", \"lj\", \"ll\", \"ll\", \"ln\", \"lo\", \"look\", \"looking\", \"looks\", \"los\", \"lr\", \"ls\", \"lt\", \"ltd\", \"m\", \"m2\", \"ma\", \"made\", \"mainly\", \"make\", \"makes\", \"many\", \"may\", \"maybe\", \"me\", \"mean\", \"means\", \"meantime\", \"meanwhile\", \"merely\", \"mg\", \"might\", \"mightn\", \"mightn't\", \"mill\", \"million\", \"mine\", \"miss\", \"ml\", \"mn\", \"mo\", \"more\", \"moreover\", \"most\", \"mostly\", \"move\", \"mr\", \"mrs\", \"ms\", \"mt\", \"mu\", \"much\", \"mug\", \"must\", \"mustn\", \"mustn't\", \"my\", \"myself\", \"n\", \"n2\", \"na\", \"name\", \"namely\", \"nay\", \"nc\", \"nd\", \"ne\", \"near\", \"nearly\", \"necessarily\", \"necessary\", \"need\", \"needn\", \"needn't\", \"needs\", \"neither\", \"never\", \"nevertheless\", \"new\", \"next\", \"ng\", \"ni\", \"nine\", \"ninety\", \"nj\", \"nl\", \"nn\", \"no\", \"nobody\", \"non\", \"none\", \"nonetheless\", \"noone\", \"nor\", \"normally\", \"nos\", \"not\", \"noted\", \"nothing\", \"novel\", \"now\", \"nowhere\", \"nr\", \"ns\", \"nt\", \"ny\", \"o\", \"oa\", \"ob\", \"obtain\", \"obtained\", \"obviously\", \"oc\", \"od\", \"of\", \"off\", \"often\", \"og\", \"oh\", \"oi\", \"oj\", \"ok\", \"okay\", \"ol\", \"old\", \"om\", \"omitted\", \"on\", \"once\", \"one\", \"ones\", \"only\", \"onto\", \"oo\", \"op\", \"oq\", \"or\", \"ord\", \"os\", \"ot\", \"other\", \"others\", \"otherwise\", \"ou\", \"ought\", \"our\", \"ours\", \"ourselves\", \"out\", \"outside\", \"over\", \"overall\", \"ow\", \"owing\", \"own\", \"ox\", \"oz\", \"p\", \"p1\", \"p2\", \"p3\", \"page\", \"pagecount\", \"pages\", \"par\", \"part\", \"particular\", \"particularly\", \"pas\", \"past\", \"pc\", \"pd\", \"pe\", \"per\", \"perhaps\", \"pf\", \"ph\", \"pi\", \"pj\", \"pk\", \"pl\", \"placed\", \"please\", \"plus\", \"pm\", \"pn\", \"po\", \"poorly\", \"possible\", \"possibly\", \"potentially\", \"pp\", \"pq\", \"pr\", \"predominantly\", \"present\", \"presumably\", \"previously\", \"primarily\", \"probably\", \"promptly\", \"proud\", \"provides\", \"ps\", \"pt\", \"pu\", \"put\", \"py\", \"q\", \"qj\", \"qu\", \"que\", \"quickly\", \"quite\", \"qv\", \"r\", \"r2\", \"ra\", \"ran\", \"rather\", \"rc\", \"rd\", \"re\", \"readily\", \"really\", \"reasonably\", \"recent\", \"recently\", \"ref\", \"refs\", \"regarding\", \"regardless\", \"regards\", \"related\", \"relatively\", \"research\", \"research-articl\", \"respectively\", \"resulted\", \"resulting\", \"results\", \"rf\", \"rh\", \"ri\", \"right\", \"rj\", \"rl\", \"rm\", \"rn\", \"ro\", \"rq\", \"rr\", \"rs\", \"rt\", \"ru\", \"run\", \"rv\", \"ry\", \"s\", \"s2\", \"sa\", \"said\", \"same\", \"saw\", \"say\", \"saying\", \"says\", \"sc\", \"sd\", \"se\", \"sec\", \"second\", \"secondly\", \"section\", \"see\", \"seeing\", \"seem\", \"seemed\", \"seeming\", \"seems\", \"seen\", \"self\", \"selves\", \"sensible\", \"sent\", \"serious\", \"seriously\", \"seven\", \"several\", \"sf\", \"shall\", \"shan\", \"shan't\", \"she\", \"shed\", \"she'd\", \"she'll\", \"shes\", \"she's\", \"should\", \"shouldn\", \"shouldn't\", \"should've\", \"show\", \"showed\", \"shown\", \"showns\", \"shows\", \"si\", \"side\", \"significant\", \"significantly\", \"similar\", \"similarly\", \"since\", \"sincere\", \"six\", \"sixty\", \"sj\", \"sl\", \"slightly\", \"sm\", \"sn\", \"so\", \"some\", \"somebody\", \"somehow\", \"someone\", \"somethan\", \"something\", \"sometime\", \"sometimes\", \"somewhat\", \"somewhere\", \"soon\", \"sorry\", \"sp\", \"specifically\", \"specified\", \"specify\", \"specifying\", \"sq\", \"sr\", \"ss\", \"st\", \"still\", \"stop\", \"strongly\", \"sub\", \"substantially\", \"successfully\", \"such\", \"sufficiently\", \"suggest\", \"sup\", \"sure\", \"sy\", \"system\", \"sz\", \"t\", \"t1\", \"t2\", \"t3\", \"take\", \"taken\", \"taking\", \"tb\", \"tc\", \"td\", \"te\", \"tell\", \"ten\", \"tends\", \"tf\", \"th\", \"than\", \"thank\", \"thanks\", \"thanx\", \"that\", \"that'll\", \"thats\", \"that's\", \"that've\", \"the\", \"their\", \"theirs\", \"them\", \"themselves\", \"then\", \"thence\", \"there\", \"thereafter\", \"thereby\", \"thered\", \"therefore\", \"therein\", \"there'll\", \"thereof\", \"therere\", \"theres\", \"there's\", \"thereto\", \"thereupon\", \"there've\", \"these\", \"they\", \"theyd\", \"they'd\", \"they'll\", \"theyre\", \"they're\", \"they've\", \"thickv\", \"thin\", \"think\", \"third\", \"this\", \"thorough\", \"thoroughly\", \"those\", \"thou\", \"though\", \"thoughh\", \"thousand\", \"three\", \"throug\", \"through\", \"throughout\", \"thru\", \"thus\", \"ti\", \"til\", \"tip\", \"tj\", \"tl\", \"tm\", \"tn\", \"to\", \"together\", \"too\", \"took\", \"top\", \"toward\", \"towards\", \"tp\", \"tq\", \"tr\", \"tried\", \"tries\", \"truly\", \"try\", \"trying\", \"ts\", \"t's\", \"tt\", \"tv\", \"twelve\", \"twenty\", \"twice\", \"two\", \"tx\", \"u\", \"u201d\", \"ue\", \"ui\", \"uj\", \"uk\", \"um\", \"un\", \"under\", \"unfortunately\", \"unless\", \"unlike\", \"unlikely\", \"until\", \"unto\", \"uo\", \"up\", \"upon\", \"ups\", \"ur\", \"us\", \"use\", \"used\", \"useful\", \"usefully\", \"usefulness\", \"uses\", \"using\", \"usually\", \"ut\", \"v\", \"va\", \"value\", \"various\", \"vd\", \"ve\", \"ve\", \"very\", \"via\", \"viz\", \"vj\", \"vo\", \"vol\", \"vols\", \"volumtype\", \"vq\", \"vs\", \"vt\", \"vu\", \"w\", \"wa\", \"want\", \"wants\", \"was\", \"wasn\", \"wasnt\", \"wasn't\", \"way\", \"we\", \"wed\", \"we'd\", \"welcome\", \"well\", \"we'll\", \"well-b\", \"went\", \"were\", \"we're\", \"weren\", \"werent\", \"weren't\", \"we've\", \"what\", \"whatever\", \"what'll\", \"whats\", \"what's\", \"when\", \"whence\", \"whenever\", \"when's\", \"where\", \"whereafter\", \"whereas\", \"whereby\", \"wherein\", \"wheres\", \"where's\", \"whereupon\", \"wherever\", \"whether\", \"which\", \"while\", \"whim\", \"whither\", \"who\", \"whod\", \"whoever\", \"whole\", \"who'll\", \"whom\", \"whomever\", \"whos\", \"who's\", \"whose\", \"why\", \"why's\", \"wi\", \"widely\", \"will\", \"willing\", \"wish\", \"with\", \"within\", \"without\", \"wo\", \"won\", \"wonder\", \"wont\", \"won't\", \"words\", \"world\", \"would\", \"wouldn\", \"wouldnt\", \"wouldn't\", \"www\", \"x\", \"x1\", \"x2\", \"x3\", \"xf\", \"xi\", \"xj\", \"xk\", \"xl\", \"xn\", \"xo\", \"xs\", \"xt\", \"xv\", \"xx\", \"y\", \"y2\", \"yes\", \"yet\", \"yj\", \"yl\", \"you\", \"youd\", \"you'd\", \"you'll\", \"your\", \"youre\", \"you're\", \"yours\", \"yourself\", \"yourselves\", \"you've\", \"yr\", \"ys\", \"yt\", \"z\", \"zero\", \"zi\", \"zz\" ]"
   ]
  },
  {
   "cell_type": "code",
   "execution_count": 8,
   "id": "587e2356",
   "metadata": {},
   "outputs": [],
   "source": [
    "dataset = pd.DataFrame(columns=['Text', 'Category'])\n",
    "\n",
    "for index, row in df.iterrows():\n",
    "    text = row['title'] + ' ' + row['content']\n",
    "    text = word_tokenize(text)\n",
    "    text = [x.lower() for x in text ]\n",
    "    text = [x for x in text if not x in stopwords]\n",
    "    text = [x.translate(translator) for x in text]\n",
    "\n",
    "    dataset.loc[index]=({\n",
    "        'Text' : ' '.join(text),\n",
    "        'Category' : row['category']\n",
    "    }) "
   ]
  },
  {
   "cell_type": "code",
   "execution_count": 9,
   "id": "e472cceb",
   "metadata": {},
   "outputs": [
    {
     "data": {
      "text/plain": [
       "'parliament s record scandal locked room heart parliament hive scandal  sex  betrayal custody children affair time troubles david blunkett boris johnson  realise westminster divorce den  sprinkled 12 floors archives blowbyblow accounts marital breakups  search s online  1857  england divorce allowed remarriage parliament proving adultery lifethreatening cruelty  legacy testimonies hearings  dating 1670  recorded 325000 items 12 floors parliamentary archives parliament s victoria tower  people researching family history discover tale illicit love  chance  divorce parliament expensive process open rich records include testimony maids  butlers coachmen masters mistresses  records story jane campbell  woman divorce husband  happened 1801 discovered husband  edward addison  committed adultery sister jessy  transcript evidence jessy s maid  amelia laugher  telling addison frequently passed room mistress naked bed  killer blow addison s case  fled abroad pay £5000 damages ordered civil court  making divorce history  jane campbell custody children  unusual woman time  divorces documents archives hold personal details people removed politics parliament  protestation returns 1642  lists protestants pledged  maintain true reformed protestant religion   details foreign nationals british citizens parliament  including composer george frideric handel 1727  mass private bills  authorise building railways roads  names addresses involved testimonies people unique perspective ancestors opposed  tax bills extra source pedigree hunters  longest stretches 300m longer palace westminster  listing names appointed tax collectors  wealth material long open public house lords record office  visitors phone ahead view items search room  years work produced online catalogue  david prior  assistant clerk archives  catalogue opens possibilities     faced trawling printed material    prior sees wider revolution archives generally   archive profession fairly staid enormous period change  motivated potential  opening sorts vistas    archives   hold records high  low  politics houses parliament  including copies acts passed 1497  oldest dealing employment workers woollen industry norfolk  records commons 1834  earlier wiped destroyed parliament buildings 1834  leaves documents political history  parts rights 1689  death warrant charles  private papers diaries major politicians david lloyd george andrew bonar law  1606 establishing 5 november thanksgiving day  year gunpowder plot  document feature exhibition archives year series events london mark 400th anniversary guy fawkes  conspiracy  prior remarks walk shelf shelf vellum  parchment goat s skin    human life  '"
      ]
     },
     "execution_count": 9,
     "metadata": {},
     "output_type": "execute_result"
    }
   ],
   "source": [
    "dataset['Text'][100]"
   ]
  },
  {
   "cell_type": "code",
   "execution_count": 10,
   "id": "e7fad7a3",
   "metadata": {},
   "outputs": [
    {
     "data": {
      "text/plain": [
       "511"
      ]
     },
     "execution_count": 10,
     "metadata": {},
     "output_type": "execute_result"
    }
   ],
   "source": [
    "sport=len(dataset[dataset['Category']=='sport'])\n",
    "business=len(dataset[dataset['Category']=='business'])\n",
    "politics=len(dataset[dataset['Category']=='politics'])\n",
    "tech=len(dataset[dataset['Category']=='tech'])\n",
    "entertainment=len(dataset[dataset['Category']=='entertainment'])\n",
    "max_len = max(sport, business, politics, tech, entertainment)\n",
    "max_len"
   ]
  },
  {
   "cell_type": "markdown",
   "id": "9ba11dea",
   "metadata": {},
   "source": [
    "# Data Spliting"
   ]
  },
  {
   "cell_type": "code",
   "execution_count": 11,
   "id": "3f78f6d2",
   "metadata": {},
   "outputs": [],
   "source": [
    "X = dataset['Text']\n",
    "Y = dataset['Category']"
   ]
  },
  {
   "cell_type": "code",
   "execution_count": 12,
   "id": "35771546",
   "metadata": {},
   "outputs": [],
   "source": [
    "def prepare_fearture (Y):\n",
    "    LB = LabelEncoder()\n",
    "    Y = LB.fit_transform(Y)\n",
    "    Y = tf.keras.utils.to_categorical(Y)\n",
    "    return Y\n",
    "Y = prepare_fearture(dataset['Category'])"
   ]
  },
  {
   "cell_type": "code",
   "execution_count": 13,
   "id": "23fc1ec1",
   "metadata": {},
   "outputs": [
    {
     "name": "stdout",
     "output_type": "stream",
     "text": [
      "1935\n",
      "290\n",
      "1935\n",
      "290\n"
     ]
    }
   ],
   "source": [
    "xtrain, xtest, ytrain, ytest = train_test_split(X, Y, random_state=4232, shuffle=True, test_size=0.13)\n",
    "print(len(xtrain))\n",
    "print(len(xtest))\n",
    "print(len(ytrain))\n",
    "print(len(ytest))"
   ]
  },
  {
   "cell_type": "markdown",
   "id": "a91e729a",
   "metadata": {},
   "source": [
    "# Tokenization | Converting to word Sequence"
   ]
  },
  {
   "cell_type": "code",
   "execution_count": 14,
   "id": "723a2992",
   "metadata": {},
   "outputs": [],
   "source": [
    "Tokenizer = Tokenizer(num_words=10000, oov_token=True)\n",
    "Tokenizer.fit_on_texts(xtrain)\n",
    "word_index = Tokenizer.word_index"
   ]
  },
  {
   "cell_type": "code",
   "execution_count": 16,
   "id": "634e0f1e",
   "metadata": {},
   "outputs": [],
   "source": [
    "sequences = Tokenizer.texts_to_sequences(xtrain)\n",
    "padded = pad_sequences(sequences, maxlen=511,  padding='post')"
   ]
  },
  {
   "cell_type": "code",
   "execution_count": 19,
   "id": "3be38bd9",
   "metadata": {},
   "outputs": [],
   "source": [
    "sequences = Tokenizer.texts_to_sequences(xtest)\n",
    "padded_test = pad_sequences(sequences, maxlen=511,  padding='post')"
   ]
  },
  {
   "cell_type": "code",
   "execution_count": 20,
   "id": "6ee54efd",
   "metadata": {},
   "outputs": [
    {
     "data": {
      "text/plain": [
       "(290, 511)"
      ]
     },
     "execution_count": 20,
     "metadata": {},
     "output_type": "execute_result"
    }
   ],
   "source": [
    "padded_test.shape"
   ]
  },
  {
   "cell_type": "markdown",
   "id": "aa1e85a3",
   "metadata": {},
   "source": [
    "# NN Model"
   ]
  },
  {
   "cell_type": "code",
   "execution_count": 21,
   "id": "87e17c63",
   "metadata": {},
   "outputs": [
    {
     "name": "stdout",
     "output_type": "stream",
     "text": [
      "Model: \"sequential\"\n",
      "_________________________________________________________________\n",
      " Layer (type)                Output Shape              Param #   \n",
      "=================================================================\n",
      " embedding (Embedding)       (None, 511, 150)          1500000   \n",
      "                                                                 \n",
      " global_average_pooling1d (G  (None, 150)              0         \n",
      " lobalAveragePooling1D)                                          \n",
      "                                                                 \n",
      " dense (Dense)               (None, 128)               19328     \n",
      "                                                                 \n",
      " dense_1 (Dense)             (None, 5)                 645       \n",
      "                                                                 \n",
      "=================================================================\n",
      "Total params: 1,519,973\n",
      "Trainable params: 1,519,973\n",
      "Non-trainable params: 0\n",
      "_________________________________________________________________\n"
     ]
    }
   ],
   "source": [
    "model = keras.Sequential([layers.Embedding(10000, 150, input_length=511),\n",
    "                          \n",
    "                          layers.GlobalAveragePooling1D(),\n",
    "                          layers.Dense(128, activation=\"relu\"),\n",
    "                         layers.Dense(5, activation=\"softmax\")])\n",
    "\n",
    "model.compile(loss=\"categorical_crossentropy\", optimizer=\"adam\", metrics=[\"accuracy\"])\n",
    "\n",
    "model.summary()"
   ]
  },
  {
   "cell_type": "code",
   "execution_count": 22,
   "id": "10e7a1d3",
   "metadata": {
    "scrolled": false
   },
   "outputs": [
    {
     "name": "stdout",
     "output_type": "stream",
     "text": [
      "Epoch 1/100\n",
      "61/61 [==============================] - 2s 31ms/step - loss: 1.5786 - accuracy: 0.2961 - val_loss: 1.5389 - val_accuracy: 0.4103\n",
      "Epoch 2/100\n",
      "61/61 [==============================] - 2s 31ms/step - loss: 1.3554 - accuracy: 0.6227 - val_loss: 1.0596 - val_accuracy: 0.7276\n",
      "Epoch 3/100\n",
      "61/61 [==============================] - 2s 32ms/step - loss: 0.6856 - accuracy: 0.9034 - val_loss: 0.4289 - val_accuracy: 0.9828\n",
      "Epoch 4/100\n",
      "61/61 [==============================] - 2s 31ms/step - loss: 0.2551 - accuracy: 0.9809 - val_loss: 0.2037 - val_accuracy: 0.9793\n",
      "Epoch 5/100\n",
      "61/61 [==============================] - 2s 31ms/step - loss: 0.1206 - accuracy: 0.9902 - val_loss: 0.1330 - val_accuracy: 0.9931\n",
      "Epoch 6/100\n",
      "61/61 [==============================] - 2s 28ms/step - loss: 0.0663 - accuracy: 0.9953 - val_loss: 0.0932 - val_accuracy: 0.9931\n",
      "Epoch 7/100\n",
      "61/61 [==============================] - 2s 26ms/step - loss: 0.0414 - accuracy: 0.9974 - val_loss: 0.0774 - val_accuracy: 0.9862\n",
      "Epoch 8/100\n",
      "61/61 [==============================] - 2s 26ms/step - loss: 0.0271 - accuracy: 0.9995 - val_loss: 0.0638 - val_accuracy: 0.9897\n",
      "Epoch 9/100\n",
      "61/61 [==============================] - 2s 25ms/step - loss: 0.0190 - accuracy: 1.0000 - val_loss: 0.0585 - val_accuracy: 0.9862\n",
      "Epoch 10/100\n",
      "61/61 [==============================] - 2s 25ms/step - loss: 0.0138 - accuracy: 1.0000 - val_loss: 0.0486 - val_accuracy: 0.9966\n",
      "Epoch 11/100\n",
      "61/61 [==============================] - 1s 24ms/step - loss: 0.0105 - accuracy: 1.0000 - val_loss: 0.0470 - val_accuracy: 0.9862\n",
      "Epoch 12/100\n",
      "61/61 [==============================] - 1s 24ms/step - loss: 0.0081 - accuracy: 1.0000 - val_loss: 0.0417 - val_accuracy: 0.9931\n",
      "Epoch 13/100\n",
      "61/61 [==============================] - 2s 26ms/step - loss: 0.0067 - accuracy: 1.0000 - val_loss: 0.0399 - val_accuracy: 0.9931\n",
      "Epoch 14/100\n",
      "61/61 [==============================] - 2s 29ms/step - loss: 0.0053 - accuracy: 1.0000 - val_loss: 0.0404 - val_accuracy: 0.9931\n",
      "Epoch 15/100\n",
      "61/61 [==============================] - 2s 27ms/step - loss: 0.0044 - accuracy: 1.0000 - val_loss: 0.0363 - val_accuracy: 0.9931\n",
      "Epoch 16/100\n",
      "61/61 [==============================] - 2s 27ms/step - loss: 0.0038 - accuracy: 1.0000 - val_loss: 0.0352 - val_accuracy: 0.9931\n",
      "Epoch 17/100\n",
      "61/61 [==============================] - 2s 27ms/step - loss: 0.0032 - accuracy: 1.0000 - val_loss: 0.0342 - val_accuracy: 0.9931\n",
      "Epoch 18/100\n",
      "61/61 [==============================] - 2s 28ms/step - loss: 0.0028 - accuracy: 1.0000 - val_loss: 0.0333 - val_accuracy: 0.9931\n",
      "Epoch 19/100\n",
      "61/61 [==============================] - 2s 26ms/step - loss: 0.0024 - accuracy: 1.0000 - val_loss: 0.0327 - val_accuracy: 0.9931\n",
      "Epoch 20/100\n",
      "61/61 [==============================] - 2s 26ms/step - loss: 0.0021 - accuracy: 1.0000 - val_loss: 0.0316 - val_accuracy: 0.9931\n",
      "Epoch 21/100\n",
      "61/61 [==============================] - 1s 24ms/step - loss: 0.0019 - accuracy: 1.0000 - val_loss: 0.0309 - val_accuracy: 0.9931\n",
      "Epoch 22/100\n",
      "61/61 [==============================] - 2s 25ms/step - loss: 0.0017 - accuracy: 1.0000 - val_loss: 0.0308 - val_accuracy: 0.9931\n",
      "Epoch 23/100\n",
      "61/61 [==============================] - 2s 26ms/step - loss: 0.0015 - accuracy: 1.0000 - val_loss: 0.0307 - val_accuracy: 0.9931\n",
      "Epoch 24/100\n",
      "61/61 [==============================] - 2s 26ms/step - loss: 0.0013 - accuracy: 1.0000 - val_loss: 0.0295 - val_accuracy: 0.9931\n",
      "Epoch 25/100\n",
      "61/61 [==============================] - 2s 31ms/step - loss: 0.0012 - accuracy: 1.0000 - val_loss: 0.0297 - val_accuracy: 0.9931\n",
      "Epoch 26/100\n",
      "61/61 [==============================] - 2s 32ms/step - loss: 0.0011 - accuracy: 1.0000 - val_loss: 0.0294 - val_accuracy: 0.9931\n",
      "Epoch 27/100\n",
      "61/61 [==============================] - 2s 30ms/step - loss: 9.9455e-04 - accuracy: 1.0000 - val_loss: 0.0288 - val_accuracy: 0.9931\n",
      "Epoch 28/100\n",
      "61/61 [==============================] - 2s 28ms/step - loss: 9.0661e-04 - accuracy: 1.0000 - val_loss: 0.0292 - val_accuracy: 0.9931\n",
      "Epoch 29/100\n",
      "61/61 [==============================] - 2s 29ms/step - loss: 8.3506e-04 - accuracy: 1.0000 - val_loss: 0.0283 - val_accuracy: 0.9931\n",
      "Epoch 30/100\n",
      "61/61 [==============================] - 2s 27ms/step - loss: 7.6423e-04 - accuracy: 1.0000 - val_loss: 0.0279 - val_accuracy: 0.9931\n",
      "Epoch 31/100\n",
      "61/61 [==============================] - 2s 26ms/step - loss: 7.0512e-04 - accuracy: 1.0000 - val_loss: 0.0277 - val_accuracy: 0.9931\n",
      "Epoch 32/100\n",
      "61/61 [==============================] - 2s 29ms/step - loss: 6.5038e-04 - accuracy: 1.0000 - val_loss: 0.0275 - val_accuracy: 0.9931\n",
      "Epoch 33/100\n",
      "61/61 [==============================] - 2s 28ms/step - loss: 6.0121e-04 - accuracy: 1.0000 - val_loss: 0.0277 - val_accuracy: 0.9931\n",
      "Epoch 34/100\n",
      "61/61 [==============================] - 2s 29ms/step - loss: 5.5892e-04 - accuracy: 1.0000 - val_loss: 0.0272 - val_accuracy: 0.9931\n",
      "Epoch 35/100\n",
      "61/61 [==============================] - 2s 27ms/step - loss: 5.1972e-04 - accuracy: 1.0000 - val_loss: 0.0269 - val_accuracy: 0.9931\n",
      "Epoch 36/100\n",
      "61/61 [==============================] - 2s 31ms/step - loss: 4.8309e-04 - accuracy: 1.0000 - val_loss: 0.0270 - val_accuracy: 0.9931\n",
      "Epoch 37/100\n",
      "61/61 [==============================] - 2s 31ms/step - loss: 4.5253e-04 - accuracy: 1.0000 - val_loss: 0.0265 - val_accuracy: 0.9931\n",
      "Epoch 38/100\n",
      "61/61 [==============================] - 2s 27ms/step - loss: 4.2185e-04 - accuracy: 1.0000 - val_loss: 0.0269 - val_accuracy: 0.9931\n",
      "Epoch 39/100\n",
      "61/61 [==============================] - 2s 27ms/step - loss: 3.9485e-04 - accuracy: 1.0000 - val_loss: 0.0269 - val_accuracy: 0.9931\n",
      "Epoch 40/100\n",
      "61/61 [==============================] - 2s 27ms/step - loss: 3.6896e-04 - accuracy: 1.0000 - val_loss: 0.0265 - val_accuracy: 0.9931\n",
      "Epoch 41/100\n",
      "61/61 [==============================] - 2s 27ms/step - loss: 3.4532e-04 - accuracy: 1.0000 - val_loss: 0.0265 - val_accuracy: 0.9931\n",
      "Epoch 42/100\n",
      "61/61 [==============================] - 2s 27ms/step - loss: 3.2530e-04 - accuracy: 1.0000 - val_loss: 0.0263 - val_accuracy: 0.9931\n",
      "Epoch 43/100\n",
      "61/61 [==============================] - 1s 23ms/step - loss: 3.0345e-04 - accuracy: 1.0000 - val_loss: 0.0261 - val_accuracy: 0.9931\n",
      "Epoch 44/100\n",
      "61/61 [==============================] - 1s 24ms/step - loss: 2.8624e-04 - accuracy: 1.0000 - val_loss: 0.0263 - val_accuracy: 0.9931\n",
      "Epoch 45/100\n",
      "61/61 [==============================] - 2s 26ms/step - loss: 2.6912e-04 - accuracy: 1.0000 - val_loss: 0.0258 - val_accuracy: 0.9931\n",
      "Epoch 46/100\n",
      "61/61 [==============================] - 2s 26ms/step - loss: 2.5351e-04 - accuracy: 1.0000 - val_loss: 0.0259 - val_accuracy: 0.9931\n",
      "Epoch 47/100\n",
      "61/61 [==============================] - 2s 28ms/step - loss: 2.3845e-04 - accuracy: 1.0000 - val_loss: 0.0259 - val_accuracy: 0.9931\n",
      "Epoch 48/100\n",
      "61/61 [==============================] - 2s 30ms/step - loss: 2.2519e-04 - accuracy: 1.0000 - val_loss: 0.0259 - val_accuracy: 0.9931\n",
      "Epoch 49/100\n",
      "61/61 [==============================] - 2s 28ms/step - loss: 2.1204e-04 - accuracy: 1.0000 - val_loss: 0.0260 - val_accuracy: 0.9931\n",
      "Epoch 50/100\n",
      "61/61 [==============================] - 2s 25ms/step - loss: 2.0007e-04 - accuracy: 1.0000 - val_loss: 0.0257 - val_accuracy: 0.9931\n",
      "Epoch 51/100\n",
      "61/61 [==============================] - 1s 24ms/step - loss: 1.8876e-04 - accuracy: 1.0000 - val_loss: 0.0258 - val_accuracy: 0.9931\n",
      "Epoch 52/100\n",
      "61/61 [==============================] - 1s 24ms/step - loss: 1.7862e-04 - accuracy: 1.0000 - val_loss: 0.0257 - val_accuracy: 0.9931\n",
      "Epoch 53/100\n",
      "61/61 [==============================] - 1s 24ms/step - loss: 1.6897e-04 - accuracy: 1.0000 - val_loss: 0.0259 - val_accuracy: 0.9931\n",
      "Epoch 54/100\n",
      "61/61 [==============================] - 2s 29ms/step - loss: 1.6012e-04 - accuracy: 1.0000 - val_loss: 0.0257 - val_accuracy: 0.9931\n",
      "Epoch 55/100\n",
      "61/61 [==============================] - 1s 22ms/step - loss: 1.5079e-04 - accuracy: 1.0000 - val_loss: 0.0254 - val_accuracy: 0.9931\n",
      "Epoch 56/100\n",
      "61/61 [==============================] - 1s 22ms/step - loss: 1.4296e-04 - accuracy: 1.0000 - val_loss: 0.0255 - val_accuracy: 0.9931\n",
      "Epoch 57/100\n",
      "61/61 [==============================] - 1s 22ms/step - loss: 1.3550e-04 - accuracy: 1.0000 - val_loss: 0.0255 - val_accuracy: 0.9931\n",
      "Epoch 58/100\n",
      "61/61 [==============================] - 1s 22ms/step - loss: 1.2831e-04 - accuracy: 1.0000 - val_loss: 0.0255 - val_accuracy: 0.9931\n",
      "Epoch 59/100\n",
      "61/61 [==============================] - 2s 25ms/step - loss: 1.2187e-04 - accuracy: 1.0000 - val_loss: 0.0255 - val_accuracy: 0.9931\n",
      "Epoch 60/100\n",
      "61/61 [==============================] - 2s 25ms/step - loss: 1.1541e-04 - accuracy: 1.0000 - val_loss: 0.0254 - val_accuracy: 0.9931\n",
      "Epoch 61/100\n",
      "61/61 [==============================] - 2s 27ms/step - loss: 1.0977e-04 - accuracy: 1.0000 - val_loss: 0.0257 - val_accuracy: 0.9931\n",
      "Epoch 62/100\n",
      "61/61 [==============================] - 1s 24ms/step - loss: 1.0404e-04 - accuracy: 1.0000 - val_loss: 0.0254 - val_accuracy: 0.9897\n",
      "Epoch 63/100\n",
      "61/61 [==============================] - 1s 24ms/step - loss: 9.8576e-05 - accuracy: 1.0000 - val_loss: 0.0254 - val_accuracy: 0.9931\n",
      "Epoch 64/100\n",
      "61/61 [==============================] - 2s 25ms/step - loss: 9.3950e-05 - accuracy: 1.0000 - val_loss: 0.0255 - val_accuracy: 0.9931\n",
      "Epoch 65/100\n",
      "61/61 [==============================] - 2s 26ms/step - loss: 8.9216e-05 - accuracy: 1.0000 - val_loss: 0.0255 - val_accuracy: 0.9897\n",
      "Epoch 66/100\n",
      "61/61 [==============================] - 1s 24ms/step - loss: 8.4769e-05 - accuracy: 1.0000 - val_loss: 0.0256 - val_accuracy: 0.9931\n",
      "Epoch 67/100\n",
      "61/61 [==============================] - 1s 24ms/step - loss: 8.0690e-05 - accuracy: 1.0000 - val_loss: 0.0257 - val_accuracy: 0.9897\n",
      "Epoch 68/100\n",
      "61/61 [==============================] - 1s 23ms/step - loss: 7.6793e-05 - accuracy: 1.0000 - val_loss: 0.0257 - val_accuracy: 0.9931\n",
      "Epoch 69/100\n",
      "61/61 [==============================] - 1s 24ms/step - loss: 7.3267e-05 - accuracy: 1.0000 - val_loss: 0.0256 - val_accuracy: 0.9931\n",
      "Epoch 70/100\n",
      "61/61 [==============================] - 1s 24ms/step - loss: 6.9568e-05 - accuracy: 1.0000 - val_loss: 0.0256 - val_accuracy: 0.9897\n",
      "Epoch 71/100\n",
      "61/61 [==============================] - 1s 23ms/step - loss: 6.6425e-05 - accuracy: 1.0000 - val_loss: 0.0256 - val_accuracy: 0.9931\n",
      "Epoch 72/100\n",
      "61/61 [==============================] - 1s 23ms/step - loss: 6.3237e-05 - accuracy: 1.0000 - val_loss: 0.0258 - val_accuracy: 0.9897\n",
      "Epoch 73/100\n",
      "61/61 [==============================] - 1s 23ms/step - loss: 6.0441e-05 - accuracy: 1.0000 - val_loss: 0.0256 - val_accuracy: 0.9897\n",
      "Epoch 74/100\n",
      "61/61 [==============================] - 1s 23ms/step - loss: 5.7614e-05 - accuracy: 1.0000 - val_loss: 0.0257 - val_accuracy: 0.9897\n",
      "Epoch 75/100\n",
      "61/61 [==============================] - 1s 23ms/step - loss: 5.5006e-05 - accuracy: 1.0000 - val_loss: 0.0258 - val_accuracy: 0.9897\n",
      "Epoch 76/100\n",
      "61/61 [==============================] - 1s 24ms/step - loss: 5.2491e-05 - accuracy: 1.0000 - val_loss: 0.0258 - val_accuracy: 0.9897\n",
      "Epoch 77/100\n",
      "61/61 [==============================] - 1s 23ms/step - loss: 5.0140e-05 - accuracy: 1.0000 - val_loss: 0.0259 - val_accuracy: 0.9897\n",
      "Epoch 78/100\n",
      "61/61 [==============================] - 1s 23ms/step - loss: 4.7764e-05 - accuracy: 1.0000 - val_loss: 0.0258 - val_accuracy: 0.9897\n",
      "Epoch 79/100\n",
      "61/61 [==============================] - 1s 23ms/step - loss: 4.5670e-05 - accuracy: 1.0000 - val_loss: 0.0258 - val_accuracy: 0.9897\n",
      "Epoch 80/100\n",
      "61/61 [==============================] - 1s 23ms/step - loss: 4.3661e-05 - accuracy: 1.0000 - val_loss: 0.0259 - val_accuracy: 0.9897\n",
      "Epoch 81/100\n",
      "61/61 [==============================] - 1s 24ms/step - loss: 4.1780e-05 - accuracy: 1.0000 - val_loss: 0.0260 - val_accuracy: 0.9897\n",
      "Epoch 82/100\n",
      "61/61 [==============================] - 1s 23ms/step - loss: 3.9843e-05 - accuracy: 1.0000 - val_loss: 0.0260 - val_accuracy: 0.9897\n",
      "Epoch 83/100\n",
      "61/61 [==============================] - 1s 23ms/step - loss: 3.8123e-05 - accuracy: 1.0000 - val_loss: 0.0262 - val_accuracy: 0.9897\n",
      "Epoch 84/100\n",
      "61/61 [==============================] - 1s 23ms/step - loss: 3.6531e-05 - accuracy: 1.0000 - val_loss: 0.0262 - val_accuracy: 0.9897\n",
      "Epoch 85/100\n",
      "61/61 [==============================] - 1s 23ms/step - loss: 3.4948e-05 - accuracy: 1.0000 - val_loss: 0.0262 - val_accuracy: 0.9897\n",
      "Epoch 86/100\n",
      "61/61 [==============================] - 1s 23ms/step - loss: 3.3484e-05 - accuracy: 1.0000 - val_loss: 0.0261 - val_accuracy: 0.9897\n",
      "Epoch 87/100\n",
      "61/61 [==============================] - 1s 23ms/step - loss: 3.2044e-05 - accuracy: 1.0000 - val_loss: 0.0262 - val_accuracy: 0.9897\n",
      "Epoch 88/100\n",
      "61/61 [==============================] - 1s 24ms/step - loss: 3.0686e-05 - accuracy: 1.0000 - val_loss: 0.0261 - val_accuracy: 0.9897\n",
      "Epoch 89/100\n",
      "61/61 [==============================] - 1s 24ms/step - loss: 2.9478e-05 - accuracy: 1.0000 - val_loss: 0.0263 - val_accuracy: 0.9897\n",
      "Epoch 90/100\n",
      "61/61 [==============================] - 1s 24ms/step - loss: 2.8253e-05 - accuracy: 1.0000 - val_loss: 0.0263 - val_accuracy: 0.9897\n",
      "Epoch 91/100\n",
      "61/61 [==============================] - 1s 24ms/step - loss: 2.7058e-05 - accuracy: 1.0000 - val_loss: 0.0263 - val_accuracy: 0.9897\n",
      "Epoch 92/100\n",
      "61/61 [==============================] - 1s 23ms/step - loss: 2.5974e-05 - accuracy: 1.0000 - val_loss: 0.0263 - val_accuracy: 0.9897\n",
      "Epoch 93/100\n",
      "61/61 [==============================] - 1s 23ms/step - loss: 2.4937e-05 - accuracy: 1.0000 - val_loss: 0.0265 - val_accuracy: 0.9897\n",
      "Epoch 94/100\n",
      "61/61 [==============================] - 1s 23ms/step - loss: 2.3966e-05 - accuracy: 1.0000 - val_loss: 0.0264 - val_accuracy: 0.9897\n",
      "Epoch 95/100\n",
      "61/61 [==============================] - 1s 23ms/step - loss: 2.3027e-05 - accuracy: 1.0000 - val_loss: 0.0264 - val_accuracy: 0.9897\n",
      "Epoch 96/100\n",
      "61/61 [==============================] - 1s 24ms/step - loss: 2.2064e-05 - accuracy: 1.0000 - val_loss: 0.0265 - val_accuracy: 0.9897\n",
      "Epoch 97/100\n",
      "61/61 [==============================] - 1s 24ms/step - loss: 2.1167e-05 - accuracy: 1.0000 - val_loss: 0.0265 - val_accuracy: 0.9897\n",
      "Epoch 98/100\n",
      "61/61 [==============================] - 1s 24ms/step - loss: 2.0350e-05 - accuracy: 1.0000 - val_loss: 0.0268 - val_accuracy: 0.9897\n",
      "Epoch 99/100\n",
      "61/61 [==============================] - 1s 23ms/step - loss: 1.9578e-05 - accuracy: 1.0000 - val_loss: 0.0266 - val_accuracy: 0.9897\n",
      "Epoch 100/100\n",
      "61/61 [==============================] - 1s 24ms/step - loss: 1.8758e-05 - accuracy: 1.0000 - val_loss: 0.0268 - val_accuracy: 0.9897\n"
     ]
    }
   ],
   "source": [
    "history = model.fit(padded,\n",
    "                   ytrain,\n",
    "                   epochs=100,\n",
    "                   validation_data = (padded_test, ytest))"
   ]
  },
  {
   "cell_type": "markdown",
   "id": "ee1064fe",
   "metadata": {},
   "source": [
    "# Evaluation"
   ]
  },
  {
   "cell_type": "code",
   "execution_count": 24,
   "id": "39f2ea16",
   "metadata": {},
   "outputs": [
    {
     "data": {
      "text/plain": [
       "[<matplotlib.lines.Line2D at 0x211e2d7c3d0>]"
      ]
     },
     "execution_count": 24,
     "metadata": {},
     "output_type": "execute_result"
    },
    {
     "data": {
      "image/png": "[encoded data removed]",
      "text/plain": [
       "<Figure size 640x480 with 1 Axes>"
      ]
     },
     "metadata": {},
     "output_type": "display_data"
    }
   ],
   "source": [
    "plt.plot(history.history['accuracy'], color='black', label= 'train_data')\n",
    "plt.plot(history.history['val_accuracy'], color='red', label= 'test_data')"
   ]
  },
  {
   "cell_type": "code",
   "execution_count": null,
   "id": "ea45f624",
   "metadata": {},
   "outputs": [],
   "source": []
  }
 ],
 "metadata": {
  "kernelspec": {
   "display_name": "Python 3 (ipykernel)",
   "language": "python",
   "name": "python3"
  },
  "language_info": {
   "codemirror_mode": {
    "name": "ipython",
    "version": 3
   },
   "file_extension": ".py",
   "mimetype": "text/x-python",
   "name": "python",
   "nbconvert_exporter": "python",
   "pygments_lexer": "ipython3",
   "version": "3.10.9"
  }
 },
 "nbformat": 4,
 "nbformat_minor": 5
}
